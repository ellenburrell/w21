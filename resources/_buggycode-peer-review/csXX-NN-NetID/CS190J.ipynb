{
 "cells": [
  {
   "cell_type": "code",
   "execution_count": 1,
   "metadata": {},
   "outputs": [],
   "source": [
    "import numpy as np\n",
    "from datascience import *\n",
    "\n",
    "# These lines set up graphing capabilities.\n",
    "import matplotlib\n",
    "%matplotlib inline\n",
    "import matplotlib.pyplot as plt\n",
    "plt.style.use('fivethirtyeight')\n",
    "import warnings\n",
    "warnings.simplefilter('ignore', FutureWarning)\n"
   ]
  },
  {
   "cell_type": "code",
   "execution_count": 2,
   "metadata": {},
   "outputs": [
    {
     "data": {
      "text/html": [
       "<table border=\"1\" class=\"dataframe\">\n",
       "    <thead>\n",
       "        <tr>\n",
       "            <th>country</th> <th>ej_atlas_issue</th> <th>individual</th> <th>gender</th> <th>episode</th> <th>company_i</th> <th>company_ii</th> <th>company_iii</th> <th>location</th> <th>relevant_family</th> <th>affiliated_env_groups</th> <th>occupation</th> <th>month</th> <th>day</th> <th>year</th> <th>date_comments</th> <th>details_of_encounter</th> <th>activist_demands</th> <th>demands_met</th> <th>explanation</th> <th>affiliated_entities_t_m</th> <th>suspected_perpetrator</th> <th>weapon</th> <th>source</th> <th>media_i</th> <th>media_ii</th> <th>media_iii</th> <th>comments</th>\n",
       "        </tr>\n",
       "    </thead>\n",
       "    <tbody>\n",
       "        <tr>\n",
       "            <td>EXAMPLE</td> <td>Name of conflict                                            </td> <td>Name LastName </td> <td>male  </td> <td>criminalized</td> <td>Company 1                    </td> <td>Company 2              </td> <td>Company 3  </td> <td>City or town         </td> <td>If a fam issue or NA</td> <td>If there are env groups involved or NA</td> <td>occupation of victim</td> <td>December </td> <td>21  </td> <td>2010</td> <td>comment on certainty about the date or NA</td> <td>Short narrrative - what happened? (1 -3 sentences) E.g.  ...</td> <td>E.g. \"Stop the XYZ Hydrodam\"                               </td> <td>ongoing    </td> <td>Longer narrative of issues and outcomes. Example: Proble ...</td> <td>Affiliated entity (e.g., illegal militia, government entity)</td> <td>Eg, police, company owners, name of perpetrator, or NA</td> <td>weapon or NA</td> <td>URL to source                                               </td> <td>other URLs used                                             </td> <td>other URLs used                                             </td> <td>other URLs used                                          </td> <td>Your comments or NA                                      </td>\n",
       "        </tr>\n",
       "        <tr>\n",
       "            <td>IDN    </td> <td>Killing of indigenous people in Mesuji in South Sumatera    </td> <td>unnamed victum</td> <td>nan   </td> <td>murdered    </td> <td>PT Treekreasi Margamulya (TM)</td> <td>Sumber Wangi Alam (SWA)</td> <td>nan        </td> <td>(disctrict of) Mesugi</td> <td>nan                 </td> <td>nan                                   </td> <td>nan                 </td> <td>mid-April</td> <td>nan </td> <td>2011</td> <td>nan                                      </td> <td>Two Companies ( PT Treekreasi Margamulya\n",
       "(TM)/Sumber Wan ...</td> <td>Stop planting oil palms on our land and expoliting our land</td> <td>ongoing    </td> <td>\"The forced planting of oil palm on the indigenous peopl ...</td> <td>nan                                                         </td> <td>special police + palm oil company                     </td> <td>nan         </td> <td>https://uprdoc.ohchr.org/uprweb/downloadfile.aspx?filena ...</td> <td>https://www.forestpeoples.org/sites/fpp/files/publicatio ...</td> <td>http://www.servindi.org/pdf/THE_INDIGENOUS_WORLD_2012.pdf   </td> <td>nan                                                      </td> <td>nan                                                      </td>\n",
       "        </tr>\n",
       "        <tr>\n",
       "            <td>IDN    </td> <td>Killing of indigenous people in Mesuji in South Sumatera    </td> <td>unnamed victum</td> <td>nan   </td> <td>murdered    </td> <td>PT Treekreasi Margamulya (TM)</td> <td>Sumber Wangi Alam (SWA)</td> <td>nan        </td> <td>(disctrict of) Mesugi</td> <td>nan                 </td> <td>nan                                   </td> <td>nan                 </td> <td>mid-April</td> <td>nan </td> <td>2011</td> <td>nan                                      </td> <td>Two Companies ( PT Treekreasi Margamulya\n",
       "(TM)/Sumber Wan ...</td> <td>Stop planting oil palms on our land and expoliting our land</td> <td>ongoing    </td> <td>\"The forced planting of oil palm on the indigenous peopl ...</td> <td>nan                                                         </td> <td>special police + palm oil company                     </td> <td>nan         </td> <td>https://uprdoc.ohchr.org/uprweb/downloadfile.aspx?filena ...</td> <td>https://www.forestpeoples.org/sites/fpp/files/publicatio ...</td> <td>http://www.servindi.org/pdf/THE_INDIGENOUS_WORLD_2012.pdf   </td> <td>nan                                                      </td> <td>nan                                                      </td>\n",
       "        </tr>\n",
       "        <tr>\n",
       "            <td>IDN    </td> <td>Killing of indigenous people in Mesuji in South Sumatera    </td> <td>unnamed victum</td> <td>nan   </td> <td>murdered    </td> <td>PT Treekreasi Margamulya (TM)</td> <td>Sumber Wangi Alam (SWA)</td> <td>nan        </td> <td>(disctrict of) Mesugi</td> <td>nan                 </td> <td>nan                                   </td> <td>nan                 </td> <td>mid-April</td> <td>nan </td> <td>2011</td> <td>nan                                      </td> <td>Two Companies ( PT Treekreasi Margamulya\n",
       "(TM)/Sumber Wan ...</td> <td>Stop planting oil palms on our land and expoliting our land</td> <td>ongoing    </td> <td>\"The forced planting of oil palm on the indigenous peopl ...</td> <td>nan                                                         </td> <td>special police + palm oil company                     </td> <td>nan         </td> <td>https://uprdoc.ohchr.org/uprweb/downloadfile.aspx?filena ...</td> <td>https://www.forestpeoples.org/sites/fpp/files/publicatio ...</td> <td>http://www.servindi.org/pdf/THE_INDIGENOUS_WORLD_2012.pdf   </td> <td>nan                                                      </td> <td>nan                                                      </td>\n",
       "        </tr>\n",
       "        <tr>\n",
       "            <td>IDN    </td> <td>Killing of indigenous people in Mesuji in South Sumatera    </td> <td>unnamed victum</td> <td>nan   </td> <td>murdered    </td> <td>PT Treekreasi Margamulya (TM)</td> <td>Sumber Wangi Alam (SWA)</td> <td>nan        </td> <td>(disctrict of) Mesugi</td> <td>nan                 </td> <td>nan                                   </td> <td>nan                 </td> <td>mid-April</td> <td>nan </td> <td>2011</td> <td>nan                                      </td> <td>Two Companies ( PT Treekreasi Margamulya\n",
       "(TM)/Sumber Wan ...</td> <td>Stop planting oil palms on our land and expoliting our land</td> <td>ongoing    </td> <td>\"The forced planting of oil palm on the indigenous peopl ...</td> <td>nan                                                         </td> <td>special police + palm oil company                     </td> <td>nan         </td> <td>https://uprdoc.ohchr.org/uprweb/downloadfile.aspx?filena ...</td> <td>https://www.forestpeoples.org/sites/fpp/files/publicatio ...</td> <td>http://www.servindi.org/pdf/THE_INDIGENOUS_WORLD_2012.pdf   </td> <td>nan                                                      </td> <td>nan                                                      </td>\n",
       "        </tr>\n",
       "        <tr>\n",
       "            <td>IDN    </td> <td>Killing of indigenous people in Mesuji in South Sumatera    </td> <td>unnamed victum</td> <td>nan   </td> <td>murdered    </td> <td>PT Treekreasi Margamulya (TM)</td> <td>Sumber Wangi Alam (SWA)</td> <td>nan        </td> <td>(disctrict of) Mesugi</td> <td>nan                 </td> <td>nan                                   </td> <td>nan                 </td> <td>mid-April</td> <td>nan </td> <td>2011</td> <td>nan                                      </td> <td>Two Companies ( PT Treekreasi Margamulya\n",
       "(TM)/Sumber Wan ...</td> <td>Stop planting oil palms on our land and expoliting our land</td> <td>ongoing    </td> <td>\"The forced planting of oil palm on the indigenous peopl ...</td> <td>nan                                                         </td> <td>special police + palm oil company                     </td> <td>nan         </td> <td>https://uprdoc.ohchr.org/uprweb/downloadfile.aspx?filena ...</td> <td>https://www.forestpeoples.org/sites/fpp/files/publicatio ...</td> <td>http://www.servindi.org/pdf/THE_INDIGENOUS_WORLD_2012.pdf   </td> <td>nan                                                      </td> <td>nan                                                      </td>\n",
       "        </tr>\n",
       "        <tr>\n",
       "            <td>IDN    </td> <td>Killing of indigenous people in Mesuji in South Sumatera    </td> <td>unnamed victum</td> <td>nan   </td> <td>murdered    </td> <td>PT Treekreasi Margamulya (TM)</td> <td>Sumber Wangi Alam (SWA)</td> <td>nan        </td> <td>(disctrict of) Mesugi</td> <td>nan                 </td> <td>nan                                   </td> <td>nan                 </td> <td>mid-April</td> <td>nan </td> <td>2011</td> <td>nan                                      </td> <td>Two Companies ( PT Treekreasi Margamulya\n",
       "(TM)/Sumber Wan ...</td> <td>Stop planting oil palms on our land and expoliting our land</td> <td>ongoing    </td> <td>\"The forced planting of oil palm on the indigenous peopl ...</td> <td>nan                                                         </td> <td>special police + palm oil company                     </td> <td>nan         </td> <td>https://uprdoc.ohchr.org/uprweb/downloadfile.aspx?filena ...</td> <td>https://www.forestpeoples.org/sites/fpp/files/publicatio ...</td> <td>http://www.servindi.org/pdf/THE_INDIGENOUS_WORLD_2012.pdf   </td> <td>nan                                                      </td> <td>nan                                                      </td>\n",
       "        </tr>\n",
       "        <tr>\n",
       "            <td>IDN    </td> <td>Killing of indigenous people in Mesuji in South Sumatera    </td> <td>unnamed victum</td> <td>nan   </td> <td>murdered    </td> <td>PT Treekreasi Margamulya (TM)</td> <td>Sumber Wangi Alam (SWA)</td> <td>nan        </td> <td>(disctrict of) Mesugi</td> <td>nan                 </td> <td>nan                                   </td> <td>nan                 </td> <td>mid-April</td> <td>nan </td> <td>2011</td> <td>nan                                      </td> <td>Two Companies ( PT Treekreasi Margamulya\n",
       "(TM)/Sumber Wan ...</td> <td>Stop planting oil palms on our land and expoliting our land</td> <td>ongoing    </td> <td>\"The forced planting of oil palm on the indigenous peopl ...</td> <td>nan                                                         </td> <td>special police + palm oil company                     </td> <td>nan         </td> <td>https://uprdoc.ohchr.org/uprweb/downloadfile.aspx?filena ...</td> <td>https://www.forestpeoples.org/sites/fpp/files/publicatio ...</td> <td>http://www.servindi.org/pdf/THE_INDIGENOUS_WORLD_2012.pdf   </td> <td>nan                                                      </td> <td>nan                                                      </td>\n",
       "        </tr>\n",
       "        <tr>\n",
       "            <td>IDN    </td> <td>Killing of indigenous peoples in Sungai Sodong in South  ...</td> <td>unnamed victum</td> <td>nan   </td> <td>murdered    </td> <td>PT Treekreasi Margamulya (TM)</td> <td>Sumber Wangi Alam (SWA)</td> <td>nan        </td> <td>Sungai Sodong        </td> <td>nan                 </td> <td>nan                                   </td> <td>nan                 </td> <td>April    </td> <td>21  </td> <td>2011</td> <td>nan                                      </td> <td>Two Companies ( PT Treekreasi Margamulya (TM)/Sumber Wan ...</td> <td>Stop planting oil palms on our land and expoliting our land</td> <td>ongoing    </td> <td>same company as above^^ similar alltercation - Indigeniu ...</td> <td>nan                                                         </td> <td>security guards + special police                      </td> <td>nan         </td> <td>https://uprdoc.ohchr.org/uprweb/downloadfile.aspx?filena ...</td> <td>https://www.forestpeoples.org/sites/fpp/files/publicatio ...</td> <td>https://cprindia.org/sites/default/files/Final%20Indones ...</td> <td>http://www.servindi.org/pdf/THE_INDIGENOUS_WORLD_2012.pdf</td> <td>media # 2 used for location and saying of 'Sungai Sodong'</td>\n",
       "        </tr>\n",
       "        <tr>\n",
       "            <td>IDN    </td> <td>Killing of indigenous peoples in Sungai Sodong in South  ...</td> <td>unnamed victum</td> <td>nan   </td> <td>murdered    </td> <td>PT Treekreasi Margamulya (TM)</td> <td>Sumber Wangi Alam (SWA)</td> <td>nan        </td> <td>Sungai Sodong        </td> <td>nan                 </td> <td>nan                                   </td> <td>nan                 </td> <td>April    </td> <td>21  </td> <td>2011</td> <td>nan                                      </td> <td>Two Companies ( PT Treekreasi Margamulya (TM)/Sumber Wan ...</td> <td>Stop planting oil palms on our land and expoliting our land</td> <td>ongoing    </td> <td>same company as above^^ similar alltercation - Indigeniu ...</td> <td>nan                                                         </td> <td>security guards + special police                      </td> <td>nan         </td> <td>https://uprdoc.ohchr.org/uprweb/downloadfile.aspx?filena ...</td> <td>https://www.forestpeoples.org/sites/fpp/files/publicatio ...</td> <td>https://cprindia.org/sites/default/files/Final%20Indones ...</td> <td>http://www.servindi.org/pdf/THE_INDIGENOUS_WORLD_2012.pdf</td> <td>media # 2 used for location and saying of 'Sungai Sodong'</td>\n",
       "        </tr>\n",
       "    </tbody>\n",
       "</table>\n",
       "<p>... (106 rows omitted)</p>"
      ],
      "text/plain": [
       "country | ej_atlas_issue                                               | individual     | gender | episode      | company_i                     | company_ii              | company_iii | location              | relevant_family      | affiliated_env_groups                  | occupation           | month     | day  | year | date_comments                             | details_of_encounter                                         | activist_demands                                            | demands_met | explanation                                                  | affiliated_entities_t_m                                      | suspected_perpetrator                                  | weapon       | source                                                       | media_i                                                      | media_ii                                                     | media_iii                                                 | comments\n",
       "EXAMPLE | Name of conflict                                             | Name LastName  | male   | criminalized | Company 1                     | Company 2               | Company 3   | City or town          | If a fam issue or NA | If there are env groups involved or NA | occupation of victim | December  | 21   | 2010 | comment on certainty about the date or NA | Short narrrative - what happened? (1 -3 sentences) E.g.  ... | E.g. \"Stop the XYZ Hydrodam\"                                | ongoing     | Longer narrative of issues and outcomes. Example: Proble ... | Affiliated entity (e.g., illegal militia, government entity) | Eg, police, company owners, name of perpetrator, or NA | weapon or NA | URL to source                                                | other URLs used                                              | other URLs used                                              | other URLs used                                           | Your comments or NA\n",
       "IDN     | Killing of indigenous people in Mesuji in South Sumatera     | unnamed victum | nan    | murdered     | PT Treekreasi Margamulya (TM) | Sumber Wangi Alam (SWA) | nan         | (disctrict of) Mesugi | nan                  | nan                                    | nan                  | mid-April | nan  | 2011 | nan                                       | Two Companies ( PT Treekreasi Margamulya\n",
       "(TM)/Sumber Wan ... | Stop planting oil palms on our land and expoliting our land | ongoing     | \"The forced planting of oil palm on the indigenous peopl ... | nan                                                          | special police + palm oil company                      | nan          | https://uprdoc.ohchr.org/uprweb/downloadfile.aspx?filena ... | https://www.forestpeoples.org/sites/fpp/files/publicatio ... | http://www.servindi.org/pdf/THE_INDIGENOUS_WORLD_2012.pdf    | nan                                                       | nan\n",
       "IDN     | Killing of indigenous people in Mesuji in South Sumatera     | unnamed victum | nan    | murdered     | PT Treekreasi Margamulya (TM) | Sumber Wangi Alam (SWA) | nan         | (disctrict of) Mesugi | nan                  | nan                                    | nan                  | mid-April | nan  | 2011 | nan                                       | Two Companies ( PT Treekreasi Margamulya\n",
       "(TM)/Sumber Wan ... | Stop planting oil palms on our land and expoliting our land | ongoing     | \"The forced planting of oil palm on the indigenous peopl ... | nan                                                          | special police + palm oil company                      | nan          | https://uprdoc.ohchr.org/uprweb/downloadfile.aspx?filena ... | https://www.forestpeoples.org/sites/fpp/files/publicatio ... | http://www.servindi.org/pdf/THE_INDIGENOUS_WORLD_2012.pdf    | nan                                                       | nan\n",
       "IDN     | Killing of indigenous people in Mesuji in South Sumatera     | unnamed victum | nan    | murdered     | PT Treekreasi Margamulya (TM) | Sumber Wangi Alam (SWA) | nan         | (disctrict of) Mesugi | nan                  | nan                                    | nan                  | mid-April | nan  | 2011 | nan                                       | Two Companies ( PT Treekreasi Margamulya\n",
       "(TM)/Sumber Wan ... | Stop planting oil palms on our land and expoliting our land | ongoing     | \"The forced planting of oil palm on the indigenous peopl ... | nan                                                          | special police + palm oil company                      | nan          | https://uprdoc.ohchr.org/uprweb/downloadfile.aspx?filena ... | https://www.forestpeoples.org/sites/fpp/files/publicatio ... | http://www.servindi.org/pdf/THE_INDIGENOUS_WORLD_2012.pdf    | nan                                                       | nan\n",
       "IDN     | Killing of indigenous people in Mesuji in South Sumatera     | unnamed victum | nan    | murdered     | PT Treekreasi Margamulya (TM) | Sumber Wangi Alam (SWA) | nan         | (disctrict of) Mesugi | nan                  | nan                                    | nan                  | mid-April | nan  | 2011 | nan                                       | Two Companies ( PT Treekreasi Margamulya\n",
       "(TM)/Sumber Wan ... | Stop planting oil palms on our land and expoliting our land | ongoing     | \"The forced planting of oil palm on the indigenous peopl ... | nan                                                          | special police + palm oil company                      | nan          | https://uprdoc.ohchr.org/uprweb/downloadfile.aspx?filena ... | https://www.forestpeoples.org/sites/fpp/files/publicatio ... | http://www.servindi.org/pdf/THE_INDIGENOUS_WORLD_2012.pdf    | nan                                                       | nan\n",
       "IDN     | Killing of indigenous people in Mesuji in South Sumatera     | unnamed victum | nan    | murdered     | PT Treekreasi Margamulya (TM) | Sumber Wangi Alam (SWA) | nan         | (disctrict of) Mesugi | nan                  | nan                                    | nan                  | mid-April | nan  | 2011 | nan                                       | Two Companies ( PT Treekreasi Margamulya\n",
       "(TM)/Sumber Wan ... | Stop planting oil palms on our land and expoliting our land | ongoing     | \"The forced planting of oil palm on the indigenous peopl ... | nan                                                          | special police + palm oil company                      | nan          | https://uprdoc.ohchr.org/uprweb/downloadfile.aspx?filena ... | https://www.forestpeoples.org/sites/fpp/files/publicatio ... | http://www.servindi.org/pdf/THE_INDIGENOUS_WORLD_2012.pdf    | nan                                                       | nan\n",
       "IDN     | Killing of indigenous people in Mesuji in South Sumatera     | unnamed victum | nan    | murdered     | PT Treekreasi Margamulya (TM) | Sumber Wangi Alam (SWA) | nan         | (disctrict of) Mesugi | nan                  | nan                                    | nan                  | mid-April | nan  | 2011 | nan                                       | Two Companies ( PT Treekreasi Margamulya\n",
       "(TM)/Sumber Wan ... | Stop planting oil palms on our land and expoliting our land | ongoing     | \"The forced planting of oil palm on the indigenous peopl ... | nan                                                          | special police + palm oil company                      | nan          | https://uprdoc.ohchr.org/uprweb/downloadfile.aspx?filena ... | https://www.forestpeoples.org/sites/fpp/files/publicatio ... | http://www.servindi.org/pdf/THE_INDIGENOUS_WORLD_2012.pdf    | nan                                                       | nan\n",
       "IDN     | Killing of indigenous people in Mesuji in South Sumatera     | unnamed victum | nan    | murdered     | PT Treekreasi Margamulya (TM) | Sumber Wangi Alam (SWA) | nan         | (disctrict of) Mesugi | nan                  | nan                                    | nan                  | mid-April | nan  | 2011 | nan                                       | Two Companies ( PT Treekreasi Margamulya\n",
       "(TM)/Sumber Wan ... | Stop planting oil palms on our land and expoliting our land | ongoing     | \"The forced planting of oil palm on the indigenous peopl ... | nan                                                          | special police + palm oil company                      | nan          | https://uprdoc.ohchr.org/uprweb/downloadfile.aspx?filena ... | https://www.forestpeoples.org/sites/fpp/files/publicatio ... | http://www.servindi.org/pdf/THE_INDIGENOUS_WORLD_2012.pdf    | nan                                                       | nan\n",
       "IDN     | Killing of indigenous peoples in Sungai Sodong in South  ... | unnamed victum | nan    | murdered     | PT Treekreasi Margamulya (TM) | Sumber Wangi Alam (SWA) | nan         | Sungai Sodong         | nan                  | nan                                    | nan                  | April     | 21   | 2011 | nan                                       | Two Companies ( PT Treekreasi Margamulya (TM)/Sumber Wan ... | Stop planting oil palms on our land and expoliting our land | ongoing     | same company as above^^ similar alltercation - Indigeniu ... | nan                                                          | security guards + special police                       | nan          | https://uprdoc.ohchr.org/uprweb/downloadfile.aspx?filena ... | https://www.forestpeoples.org/sites/fpp/files/publicatio ... | https://cprindia.org/sites/default/files/Final%20Indones ... | http://www.servindi.org/pdf/THE_INDIGENOUS_WORLD_2012.pdf | media # 2 used for location and saying of 'Sungai Sodong'\n",
       "IDN     | Killing of indigenous peoples in Sungai Sodong in South  ... | unnamed victum | nan    | murdered     | PT Treekreasi Margamulya (TM) | Sumber Wangi Alam (SWA) | nan         | Sungai Sodong         | nan                  | nan                                    | nan                  | April     | 21   | 2011 | nan                                       | Two Companies ( PT Treekreasi Margamulya (TM)/Sumber Wan ... | Stop planting oil palms on our land and expoliting our land | ongoing     | same company as above^^ similar alltercation - Indigeniu ... | nan                                                          | security guards + special police                       | nan          | https://uprdoc.ohchr.org/uprweb/downloadfile.aspx?filena ... | https://www.forestpeoples.org/sites/fpp/files/publicatio ... | https://cprindia.org/sites/default/files/Final%20Indones ... | http://www.servindi.org/pdf/THE_INDIGENOUS_WORLD_2012.pdf | media # 2 used for location and saying of 'Sungai Sodong'\n",
       "... (106 rows omitted)"
      ]
     },
     "execution_count": 2,
     "metadata": {},
     "output_type": "execute_result"
    }
   ],
   "source": [
    "IND_data = Table().read_table(\"final clean Env_Data_IDN - IDN(trial 3).csv\")\n",
    "IND_data"
   ]
  },
  {
   "cell_type": "code",
   "execution_count": 3,
   "metadata": {},
   "outputs": [
    {
     "data": {
      "text/plain": [
       "('country',\n",
       " 'ej_atlas_issue',\n",
       " 'individual',\n",
       " 'gender',\n",
       " 'episode',\n",
       " 'company_i',\n",
       " 'company_ii',\n",
       " 'company_iii',\n",
       " 'location',\n",
       " 'relevant_family',\n",
       " 'affiliated_env_groups',\n",
       " 'occupation',\n",
       " 'month',\n",
       " 'day',\n",
       " 'year',\n",
       " 'date_comments',\n",
       " 'details_of_encounter',\n",
       " 'activist_demands',\n",
       " 'demands_met',\n",
       " 'explanation',\n",
       " 'affiliated_entities_t_m',\n",
       " 'suspected_perpetrator',\n",
       " 'weapon',\n",
       " 'source',\n",
       " 'media_i',\n",
       " 'media_ii',\n",
       " 'media_iii',\n",
       " 'comments')"
      ]
     },
     "execution_count": 3,
     "metadata": {},
     "output_type": "execute_result"
    }
   ],
   "source": [
    "column_names = IND_data.labels\n",
    "column_names"
   ]
  },
  {
   "cell_type": "code",
   "execution_count": 4,
   "metadata": {},
   "outputs": [
    {
     "data": {
      "text/html": [
       "<table border=\"1\" class=\"dataframe\">\n",
       "    <thead>\n",
       "        <tr>\n",
       "            <th>country</th> <th>ej_atlas_issue</th> <th>individual</th> <th>gender</th> <th>episode</th> <th>company_i</th> <th>company_ii</th> <th>company_iii</th> <th>location</th> <th>relevant_family</th> <th>affiliated_env_groups</th> <th>occupation</th> <th>month</th> <th>day</th> <th>year</th> <th>date_comments</th> <th>details_of_encounter</th> <th>activist_demands</th> <th>demands_met</th> <th>explanation</th> <th>affiliated_entities_t_m</th> <th>suspected_perpetrator</th> <th>weapon</th> <th>source</th> <th>media_i</th> <th>media_ii</th> <th>media_iii</th> <th>comments</th>\n",
       "        </tr>\n",
       "    </thead>\n",
       "    <tbody>\n",
       "        <tr>\n",
       "            <td>IDN    </td> <td>Killing of indigenous people in Mesuji in South Sumatera    </td> <td>unnamed victum</td> <td>nan   </td> <td>murdered</td> <td>PT Treekreasi Margamulya (TM)</td> <td>Sumber Wangi Alam (SWA)</td> <td>nan        </td> <td>(disctrict of) Mesugi             </td> <td>nan            </td> <td>nan                  </td> <td>nan       </td> <td>mid-April</td> <td>nan </td> <td>2011</td> <td>nan          </td> <td>Two Companies ( PT Treekreasi Margamulya\n",
       "(TM)/Sumber Wan ...</td> <td>Stop planting oil palms on our land and expoliting our land</td> <td>ongoing    </td> <td>\"The forced planting of oil palm on the indigenous peopl ...</td> <td>nan                    </td> <td>special police + palm oil company</td> <td>nan   </td> <td>https://uprdoc.ohchr.org/uprweb/downloadfile.aspx?filena ...</td> <td>https://www.forestpeoples.org/sites/fpp/files/publicatio ...</td> <td>http://www.servindi.org/pdf/THE_INDIGENOUS_WORLD_2012.pdf   </td> <td>nan                                                      </td> <td>nan                                                      </td>\n",
       "        </tr>\n",
       "        <tr>\n",
       "            <td>IDN    </td> <td>Killing of indigenous people in Mesuji in South Sumatera    </td> <td>unnamed victum</td> <td>nan   </td> <td>murdered</td> <td>PT Treekreasi Margamulya (TM)</td> <td>Sumber Wangi Alam (SWA)</td> <td>nan        </td> <td>(disctrict of) Mesugi             </td> <td>nan            </td> <td>nan                  </td> <td>nan       </td> <td>mid-April</td> <td>nan </td> <td>2011</td> <td>nan          </td> <td>Two Companies ( PT Treekreasi Margamulya\n",
       "(TM)/Sumber Wan ...</td> <td>Stop planting oil palms on our land and expoliting our land</td> <td>ongoing    </td> <td>\"The forced planting of oil palm on the indigenous peopl ...</td> <td>nan                    </td> <td>special police + palm oil company</td> <td>nan   </td> <td>https://uprdoc.ohchr.org/uprweb/downloadfile.aspx?filena ...</td> <td>https://www.forestpeoples.org/sites/fpp/files/publicatio ...</td> <td>http://www.servindi.org/pdf/THE_INDIGENOUS_WORLD_2012.pdf   </td> <td>nan                                                      </td> <td>nan                                                      </td>\n",
       "        </tr>\n",
       "        <tr>\n",
       "            <td>IDN    </td> <td>Killing of indigenous people in Mesuji in South Sumatera    </td> <td>unnamed victum</td> <td>nan   </td> <td>murdered</td> <td>PT Treekreasi Margamulya (TM)</td> <td>Sumber Wangi Alam (SWA)</td> <td>nan        </td> <td>(disctrict of) Mesugi             </td> <td>nan            </td> <td>nan                  </td> <td>nan       </td> <td>mid-April</td> <td>nan </td> <td>2011</td> <td>nan          </td> <td>Two Companies ( PT Treekreasi Margamulya\n",
       "(TM)/Sumber Wan ...</td> <td>Stop planting oil palms on our land and expoliting our land</td> <td>ongoing    </td> <td>\"The forced planting of oil palm on the indigenous peopl ...</td> <td>nan                    </td> <td>special police + palm oil company</td> <td>nan   </td> <td>https://uprdoc.ohchr.org/uprweb/downloadfile.aspx?filena ...</td> <td>https://www.forestpeoples.org/sites/fpp/files/publicatio ...</td> <td>http://www.servindi.org/pdf/THE_INDIGENOUS_WORLD_2012.pdf   </td> <td>nan                                                      </td> <td>nan                                                      </td>\n",
       "        </tr>\n",
       "        <tr>\n",
       "            <td>IDN    </td> <td>Killing of indigenous people in Mesuji in South Sumatera    </td> <td>unnamed victum</td> <td>nan   </td> <td>murdered</td> <td>PT Treekreasi Margamulya (TM)</td> <td>Sumber Wangi Alam (SWA)</td> <td>nan        </td> <td>(disctrict of) Mesugi             </td> <td>nan            </td> <td>nan                  </td> <td>nan       </td> <td>mid-April</td> <td>nan </td> <td>2011</td> <td>nan          </td> <td>Two Companies ( PT Treekreasi Margamulya\n",
       "(TM)/Sumber Wan ...</td> <td>Stop planting oil palms on our land and expoliting our land</td> <td>ongoing    </td> <td>\"The forced planting of oil palm on the indigenous peopl ...</td> <td>nan                    </td> <td>special police + palm oil company</td> <td>nan   </td> <td>https://uprdoc.ohchr.org/uprweb/downloadfile.aspx?filena ...</td> <td>https://www.forestpeoples.org/sites/fpp/files/publicatio ...</td> <td>http://www.servindi.org/pdf/THE_INDIGENOUS_WORLD_2012.pdf   </td> <td>nan                                                      </td> <td>nan                                                      </td>\n",
       "        </tr>\n",
       "        <tr>\n",
       "            <td>IDN    </td> <td>Killing of indigenous people in Mesuji in South Sumatera    </td> <td>unnamed victum</td> <td>nan   </td> <td>murdered</td> <td>PT Treekreasi Margamulya (TM)</td> <td>Sumber Wangi Alam (SWA)</td> <td>nan        </td> <td>(disctrict of) Mesugi             </td> <td>nan            </td> <td>nan                  </td> <td>nan       </td> <td>mid-April</td> <td>nan </td> <td>2011</td> <td>nan          </td> <td>Two Companies ( PT Treekreasi Margamulya\n",
       "(TM)/Sumber Wan ...</td> <td>Stop planting oil palms on our land and expoliting our land</td> <td>ongoing    </td> <td>\"The forced planting of oil palm on the indigenous peopl ...</td> <td>nan                    </td> <td>special police + palm oil company</td> <td>nan   </td> <td>https://uprdoc.ohchr.org/uprweb/downloadfile.aspx?filena ...</td> <td>https://www.forestpeoples.org/sites/fpp/files/publicatio ...</td> <td>http://www.servindi.org/pdf/THE_INDIGENOUS_WORLD_2012.pdf   </td> <td>nan                                                      </td> <td>nan                                                      </td>\n",
       "        </tr>\n",
       "        <tr>\n",
       "            <td>IDN    </td> <td>Killing of indigenous people in Mesuji in South Sumatera    </td> <td>unnamed victum</td> <td>nan   </td> <td>murdered</td> <td>PT Treekreasi Margamulya (TM)</td> <td>Sumber Wangi Alam (SWA)</td> <td>nan        </td> <td>(disctrict of) Mesugi             </td> <td>nan            </td> <td>nan                  </td> <td>nan       </td> <td>mid-April</td> <td>nan </td> <td>2011</td> <td>nan          </td> <td>Two Companies ( PT Treekreasi Margamulya\n",
       "(TM)/Sumber Wan ...</td> <td>Stop planting oil palms on our land and expoliting our land</td> <td>ongoing    </td> <td>\"The forced planting of oil palm on the indigenous peopl ...</td> <td>nan                    </td> <td>special police + palm oil company</td> <td>nan   </td> <td>https://uprdoc.ohchr.org/uprweb/downloadfile.aspx?filena ...</td> <td>https://www.forestpeoples.org/sites/fpp/files/publicatio ...</td> <td>http://www.servindi.org/pdf/THE_INDIGENOUS_WORLD_2012.pdf   </td> <td>nan                                                      </td> <td>nan                                                      </td>\n",
       "        </tr>\n",
       "        <tr>\n",
       "            <td>IDN    </td> <td>Killing of indigenous people in Mesuji in South Sumatera    </td> <td>unnamed victum</td> <td>nan   </td> <td>murdered</td> <td>PT Treekreasi Margamulya (TM)</td> <td>Sumber Wangi Alam (SWA)</td> <td>nan        </td> <td>(disctrict of) Mesugi             </td> <td>nan            </td> <td>nan                  </td> <td>nan       </td> <td>mid-April</td> <td>nan </td> <td>2011</td> <td>nan          </td> <td>Two Companies ( PT Treekreasi Margamulya\n",
       "(TM)/Sumber Wan ...</td> <td>Stop planting oil palms on our land and expoliting our land</td> <td>ongoing    </td> <td>\"The forced planting of oil palm on the indigenous peopl ...</td> <td>nan                    </td> <td>special police + palm oil company</td> <td>nan   </td> <td>https://uprdoc.ohchr.org/uprweb/downloadfile.aspx?filena ...</td> <td>https://www.forestpeoples.org/sites/fpp/files/publicatio ...</td> <td>http://www.servindi.org/pdf/THE_INDIGENOUS_WORLD_2012.pdf   </td> <td>nan                                                      </td> <td>nan                                                      </td>\n",
       "        </tr>\n",
       "        <tr>\n",
       "            <td>IDN    </td> <td>Killing of indigenous peoples in Sungai Sodong in South  ...</td> <td>unnamed victum</td> <td>nan   </td> <td>murdered</td> <td>PT Treekreasi Margamulya (TM)</td> <td>Sumber Wangi Alam (SWA)</td> <td>nan        </td> <td>Sungai Sodong                     </td> <td>nan            </td> <td>nan                  </td> <td>nan       </td> <td>April    </td> <td>21  </td> <td>2011</td> <td>nan          </td> <td>Two Companies ( PT Treekreasi Margamulya (TM)/Sumber Wan ...</td> <td>Stop planting oil palms on our land and expoliting our land</td> <td>ongoing    </td> <td>same company as above^^ similar alltercation - Indigeniu ...</td> <td>nan                    </td> <td>security guards + special police </td> <td>nan   </td> <td>https://uprdoc.ohchr.org/uprweb/downloadfile.aspx?filena ...</td> <td>https://www.forestpeoples.org/sites/fpp/files/publicatio ...</td> <td>https://cprindia.org/sites/default/files/Final%20Indones ...</td> <td>http://www.servindi.org/pdf/THE_INDIGENOUS_WORLD_2012.pdf</td> <td>media # 2 used for location and saying of 'Sungai Sodong'</td>\n",
       "        </tr>\n",
       "        <tr>\n",
       "            <td>IDN    </td> <td>Killing of indigenous peoples in Sungai Sodong in South  ...</td> <td>unnamed victum</td> <td>nan   </td> <td>murdered</td> <td>PT Treekreasi Margamulya (TM)</td> <td>Sumber Wangi Alam (SWA)</td> <td>nan        </td> <td>Sungai Sodong                     </td> <td>nan            </td> <td>nan                  </td> <td>nan       </td> <td>April    </td> <td>21  </td> <td>2011</td> <td>nan          </td> <td>Two Companies ( PT Treekreasi Margamulya (TM)/Sumber Wan ...</td> <td>Stop planting oil palms on our land and expoliting our land</td> <td>ongoing    </td> <td>same company as above^^ similar alltercation - Indigeniu ...</td> <td>nan                    </td> <td>security guards + special police </td> <td>nan   </td> <td>https://uprdoc.ohchr.org/uprweb/downloadfile.aspx?filena ...</td> <td>https://www.forestpeoples.org/sites/fpp/files/publicatio ...</td> <td>https://cprindia.org/sites/default/files/Final%20Indones ...</td> <td>http://www.servindi.org/pdf/THE_INDIGENOUS_WORLD_2012.pdf</td> <td>media # 2 used for location and saying of 'Sungai Sodong'</td>\n",
       "        </tr>\n",
       "        <tr>\n",
       "            <td>IDN    </td> <td>Killing of indigenous peoples in South Sumatera             </td> <td>unnamed victum</td> <td>nan   </td> <td>murdered</td> <td>PT Treekreasi Margamulya (TM)</td> <td>Sumber Wangi Alam (SWA)</td> <td>nan        </td> <td>undefined region in South Sumatera</td> <td>nan            </td> <td>nan                  </td> <td>nan       </td> <td>November </td> <td>11  </td> <td>2011</td> <td>nan          </td> <td>Altercation between local inhabitants and palm oil compa ...</td> <td>nan                                                        </td> <td>ongoing    </td> <td>\"During a clash on 11 November, two people were killed a ...</td> <td>nan                    </td> <td>palm oil company                 </td> <td>gun   </td> <td>https://uprdoc.ohchr.org/uprweb/downloadfile.aspx?filena ...</td> <td>https://www.forestpeoples.org/sites/fpp/files/publicatio ...</td> <td>http://www.servindi.org/pdf/THE_INDIGENOUS_WORLD_2012.pdf   </td> <td>nan                                                      </td> <td>nan                                                      </td>\n",
       "        </tr>\n",
       "    </tbody>\n",
       "</table>\n",
       "<p>... (105 rows omitted)</p>"
      ],
      "text/plain": [
       "country | ej_atlas_issue                                               | individual     | gender | episode  | company_i                     | company_ii              | company_iii | location                           | relevant_family | affiliated_env_groups | occupation | month     | day  | year | date_comments | details_of_encounter                                         | activist_demands                                            | demands_met | explanation                                                  | affiliated_entities_t_m | suspected_perpetrator             | weapon | source                                                       | media_i                                                      | media_ii                                                     | media_iii                                                 | comments\n",
       "IDN     | Killing of indigenous people in Mesuji in South Sumatera     | unnamed victum | nan    | murdered | PT Treekreasi Margamulya (TM) | Sumber Wangi Alam (SWA) | nan         | (disctrict of) Mesugi              | nan             | nan                   | nan        | mid-April | nan  | 2011 | nan           | Two Companies ( PT Treekreasi Margamulya\n",
       "(TM)/Sumber Wan ... | Stop planting oil palms on our land and expoliting our land | ongoing     | \"The forced planting of oil palm on the indigenous peopl ... | nan                     | special police + palm oil company | nan    | https://uprdoc.ohchr.org/uprweb/downloadfile.aspx?filena ... | https://www.forestpeoples.org/sites/fpp/files/publicatio ... | http://www.servindi.org/pdf/THE_INDIGENOUS_WORLD_2012.pdf    | nan                                                       | nan\n",
       "IDN     | Killing of indigenous people in Mesuji in South Sumatera     | unnamed victum | nan    | murdered | PT Treekreasi Margamulya (TM) | Sumber Wangi Alam (SWA) | nan         | (disctrict of) Mesugi              | nan             | nan                   | nan        | mid-April | nan  | 2011 | nan           | Two Companies ( PT Treekreasi Margamulya\n",
       "(TM)/Sumber Wan ... | Stop planting oil palms on our land and expoliting our land | ongoing     | \"The forced planting of oil palm on the indigenous peopl ... | nan                     | special police + palm oil company | nan    | https://uprdoc.ohchr.org/uprweb/downloadfile.aspx?filena ... | https://www.forestpeoples.org/sites/fpp/files/publicatio ... | http://www.servindi.org/pdf/THE_INDIGENOUS_WORLD_2012.pdf    | nan                                                       | nan\n",
       "IDN     | Killing of indigenous people in Mesuji in South Sumatera     | unnamed victum | nan    | murdered | PT Treekreasi Margamulya (TM) | Sumber Wangi Alam (SWA) | nan         | (disctrict of) Mesugi              | nan             | nan                   | nan        | mid-April | nan  | 2011 | nan           | Two Companies ( PT Treekreasi Margamulya\n",
       "(TM)/Sumber Wan ... | Stop planting oil palms on our land and expoliting our land | ongoing     | \"The forced planting of oil palm on the indigenous peopl ... | nan                     | special police + palm oil company | nan    | https://uprdoc.ohchr.org/uprweb/downloadfile.aspx?filena ... | https://www.forestpeoples.org/sites/fpp/files/publicatio ... | http://www.servindi.org/pdf/THE_INDIGENOUS_WORLD_2012.pdf    | nan                                                       | nan\n",
       "IDN     | Killing of indigenous people in Mesuji in South Sumatera     | unnamed victum | nan    | murdered | PT Treekreasi Margamulya (TM) | Sumber Wangi Alam (SWA) | nan         | (disctrict of) Mesugi              | nan             | nan                   | nan        | mid-April | nan  | 2011 | nan           | Two Companies ( PT Treekreasi Margamulya\n",
       "(TM)/Sumber Wan ... | Stop planting oil palms on our land and expoliting our land | ongoing     | \"The forced planting of oil palm on the indigenous peopl ... | nan                     | special police + palm oil company | nan    | https://uprdoc.ohchr.org/uprweb/downloadfile.aspx?filena ... | https://www.forestpeoples.org/sites/fpp/files/publicatio ... | http://www.servindi.org/pdf/THE_INDIGENOUS_WORLD_2012.pdf    | nan                                                       | nan\n",
       "IDN     | Killing of indigenous people in Mesuji in South Sumatera     | unnamed victum | nan    | murdered | PT Treekreasi Margamulya (TM) | Sumber Wangi Alam (SWA) | nan         | (disctrict of) Mesugi              | nan             | nan                   | nan        | mid-April | nan  | 2011 | nan           | Two Companies ( PT Treekreasi Margamulya\n",
       "(TM)/Sumber Wan ... | Stop planting oil palms on our land and expoliting our land | ongoing     | \"The forced planting of oil palm on the indigenous peopl ... | nan                     | special police + palm oil company | nan    | https://uprdoc.ohchr.org/uprweb/downloadfile.aspx?filena ... | https://www.forestpeoples.org/sites/fpp/files/publicatio ... | http://www.servindi.org/pdf/THE_INDIGENOUS_WORLD_2012.pdf    | nan                                                       | nan\n",
       "IDN     | Killing of indigenous people in Mesuji in South Sumatera     | unnamed victum | nan    | murdered | PT Treekreasi Margamulya (TM) | Sumber Wangi Alam (SWA) | nan         | (disctrict of) Mesugi              | nan             | nan                   | nan        | mid-April | nan  | 2011 | nan           | Two Companies ( PT Treekreasi Margamulya\n",
       "(TM)/Sumber Wan ... | Stop planting oil palms on our land and expoliting our land | ongoing     | \"The forced planting of oil palm on the indigenous peopl ... | nan                     | special police + palm oil company | nan    | https://uprdoc.ohchr.org/uprweb/downloadfile.aspx?filena ... | https://www.forestpeoples.org/sites/fpp/files/publicatio ... | http://www.servindi.org/pdf/THE_INDIGENOUS_WORLD_2012.pdf    | nan                                                       | nan\n",
       "IDN     | Killing of indigenous people in Mesuji in South Sumatera     | unnamed victum | nan    | murdered | PT Treekreasi Margamulya (TM) | Sumber Wangi Alam (SWA) | nan         | (disctrict of) Mesugi              | nan             | nan                   | nan        | mid-April | nan  | 2011 | nan           | Two Companies ( PT Treekreasi Margamulya\n",
       "(TM)/Sumber Wan ... | Stop planting oil palms on our land and expoliting our land | ongoing     | \"The forced planting of oil palm on the indigenous peopl ... | nan                     | special police + palm oil company | nan    | https://uprdoc.ohchr.org/uprweb/downloadfile.aspx?filena ... | https://www.forestpeoples.org/sites/fpp/files/publicatio ... | http://www.servindi.org/pdf/THE_INDIGENOUS_WORLD_2012.pdf    | nan                                                       | nan\n",
       "IDN     | Killing of indigenous peoples in Sungai Sodong in South  ... | unnamed victum | nan    | murdered | PT Treekreasi Margamulya (TM) | Sumber Wangi Alam (SWA) | nan         | Sungai Sodong                      | nan             | nan                   | nan        | April     | 21   | 2011 | nan           | Two Companies ( PT Treekreasi Margamulya (TM)/Sumber Wan ... | Stop planting oil palms on our land and expoliting our land | ongoing     | same company as above^^ similar alltercation - Indigeniu ... | nan                     | security guards + special police  | nan    | https://uprdoc.ohchr.org/uprweb/downloadfile.aspx?filena ... | https://www.forestpeoples.org/sites/fpp/files/publicatio ... | https://cprindia.org/sites/default/files/Final%20Indones ... | http://www.servindi.org/pdf/THE_INDIGENOUS_WORLD_2012.pdf | media # 2 used for location and saying of 'Sungai Sodong'\n",
       "IDN     | Killing of indigenous peoples in Sungai Sodong in South  ... | unnamed victum | nan    | murdered | PT Treekreasi Margamulya (TM) | Sumber Wangi Alam (SWA) | nan         | Sungai Sodong                      | nan             | nan                   | nan        | April     | 21   | 2011 | nan           | Two Companies ( PT Treekreasi Margamulya (TM)/Sumber Wan ... | Stop planting oil palms on our land and expoliting our land | ongoing     | same company as above^^ similar alltercation - Indigeniu ... | nan                     | security guards + special police  | nan    | https://uprdoc.ohchr.org/uprweb/downloadfile.aspx?filena ... | https://www.forestpeoples.org/sites/fpp/files/publicatio ... | https://cprindia.org/sites/default/files/Final%20Indones ... | http://www.servindi.org/pdf/THE_INDIGENOUS_WORLD_2012.pdf | media # 2 used for location and saying of 'Sungai Sodong'\n",
       "IDN     | Killing of indigenous peoples in South Sumatera              | unnamed victum | nan    | murdered | PT Treekreasi Margamulya (TM) | Sumber Wangi Alam (SWA) | nan         | undefined region in South Sumatera | nan             | nan                   | nan        | November  | 11   | 2011 | nan           | Altercation between local inhabitants and palm oil compa ... | nan                                                         | ongoing     | \"During a clash on 11 November, two people were killed a ... | nan                     | palm oil company                  | gun    | https://uprdoc.ohchr.org/uprweb/downloadfile.aspx?filena ... | https://www.forestpeoples.org/sites/fpp/files/publicatio ... | http://www.servindi.org/pdf/THE_INDIGENOUS_WORLD_2012.pdf    | nan                                                       | nan\n",
       "... (105 rows omitted)"
      ]
     },
     "execution_count": 4,
     "metadata": {},
     "output_type": "execute_result"
    }
   ],
   "source": [
    "#shows the first row, which is an example that we don't want in our data\n",
    "delete_first_row = IND_data.item(0)\n",
    "#minor cleaning of the data\n",
    "new_table_IND = IND_data.where(\"country\", are.not_equal_to(\"EXAMPLE\"))\n",
    "new_table_IND"
   ]
  },
  {
   "cell_type": "code",
   "execution_count": 5,
   "metadata": {},
   "outputs": [
    {
     "ename": "NameError",
     "evalue": "name 'ej_atlas_issue' is not defined",
     "output_type": "error",
     "traceback": [
      "\u001b[0;31m---------------------------------------------------------------------------\u001b[0m",
      "\u001b[0;31mNameError\u001b[0m                                 Traceback (most recent call last)",
      "\u001b[0;32m<ipython-input-5-ad7cc566dbaa>\u001b[0m in \u001b[0;36m<module>\u001b[0;34m\u001b[0m\n\u001b[1;32m      1\u001b[0m \u001b[0;31m#Let's group the casestudies together\u001b[0m\u001b[0;34m\u001b[0m\u001b[0;34m\u001b[0m\u001b[0;34m\u001b[0m\u001b[0m\n\u001b[0;32m----> 2\u001b[0;31m \u001b[0mcompanies_involved\u001b[0m \u001b[0;34m=\u001b[0m \u001b[0mnew_table_IND\u001b[0m\u001b[0;34m.\u001b[0m\u001b[0mgroup\u001b[0m\u001b[0;34m(\u001b[0m\u001b[0mej_atlas_issue\u001b[0m\u001b[0;34m)\u001b[0m\u001b[0;34m\u001b[0m\u001b[0;34m\u001b[0m\u001b[0m\n\u001b[0m\u001b[1;32m      3\u001b[0m \u001b[0mcompanies_involved\u001b[0m\u001b[0;34m.\u001b[0m\u001b[0mshow\u001b[0m\u001b[0;34m(\u001b[0m\u001b[0;34m)\u001b[0m\u001b[0;34m\u001b[0m\u001b[0;34m\u001b[0m\u001b[0m\n",
      "\u001b[0;31mNameError\u001b[0m: name 'ej_atlas_issue' is not defined"
     ]
    }
   ],
   "source": [
    "#Let's group the casestudies together\n",
    "companies_involved = new_table_IND.group(ej_atlas_issue)\n",
    "companies_involved.show()"
   ]
  },
  {
   "cell_type": "markdown",
   "metadata": {},
   "source": [
    "Student asks - \"Why is group not working?\""
   ]
  }
 ],
 "metadata": {
  "kernelspec": {
   "display_name": "Python 3",
   "language": "python",
   "name": "python3"
  },
  "language_info": {
   "codemirror_mode": {
    "name": "ipython",
    "version": 3
   },
   "file_extension": ".py",
   "mimetype": "text/x-python",
   "name": "python",
   "nbconvert_exporter": "python",
   "pygments_lexer": "ipython3",
   "version": "3.7.9"
  },
  "toc": {
   "base_numbering": 1,
   "nav_menu": {},
   "number_sections": true,
   "sideBar": true,
   "skip_h1_title": false,
   "title_cell": "Table of Contents",
   "title_sidebar": "Contents",
   "toc_cell": false,
   "toc_position": {},
   "toc_section_display": true,
   "toc_window_display": false
  }
 },
 "nbformat": 4,
 "nbformat_minor": 4
}
